{
 "cells": [
  {
   "cell_type": "code",
   "execution_count": 1,
   "metadata": {},
   "outputs": [],
   "source": [
    "import numpy as np\n",
    "import pandas as pd\n",
    "import re"
   ]
  },
  {
   "cell_type": "code",
   "execution_count": 6,
   "metadata": {},
   "outputs": [
    {
     "name": "stdout",
     "output_type": "stream",
     "text": [
      "2019-12-19\n",
      "2019-11-21\n",
      "828\n",
      "------------------------------\n"
     ]
    },
    {
     "name": "stderr",
     "output_type": "stream",
     "text": [
      "<ipython-input-6-9efb70c243ad>:17: SettingWithCopyWarning: \n",
      "A value is trying to be set on a copy of a slice from a DataFrame\n",
      "\n",
      "See the caveats in the documentation: https://pandas.pydata.org/pandas-docs/stable/user_guide/indexing.html#returning-a-view-versus-a-copy\n",
      "  df1['신작수'][idx] = 1\n",
      "<ipython-input-6-9efb70c243ad>:23: SettingWithCopyWarning: \n",
      "A value is trying to be set on a copy of a slice from a DataFrame\n",
      "\n",
      "See the caveats in the documentation: https://pandas.pydata.org/pandas-docs/stable/user_guide/indexing.html#returning-a-view-versus-a-copy\n",
      "  df1['신작수'][df_len] = tot\n"
     ]
    },
    {
     "data": {
      "text/html": [
       "<div>\n",
       "<style scoped>\n",
       "    .dataframe tbody tr th:only-of-type {\n",
       "        vertical-align: middle;\n",
       "    }\n",
       "\n",
       "    .dataframe tbody tr th {\n",
       "        vertical-align: top;\n",
       "    }\n",
       "\n",
       "    .dataframe thead th {\n",
       "        text-align: right;\n",
       "    }\n",
       "</style>\n",
       "<table border=\"1\" class=\"dataframe\">\n",
       "  <thead>\n",
       "    <tr style=\"text-align: right;\">\n",
       "      <th></th>\n",
       "      <th>매출액</th>\n",
       "      <th>관객수</th>\n",
       "      <th>신작수</th>\n",
       "    </tr>\n",
       "  </thead>\n",
       "  <tbody>\n",
       "    <tr>\n",
       "      <th>0</th>\n",
       "      <td>186,644,820,812</td>\n",
       "      <td>22,464,620</td>\n",
       "      <td>186</td>\n",
       "    </tr>\n",
       "  </tbody>\n",
       "</table>\n",
       "</div>"
      ],
      "text/plain": [
       "              매출액         관객수   신작수\n",
       "0  186,644,820,812  22,464,620  186"
      ]
     },
     "execution_count": 6,
     "metadata": {},
     "output_type": "execute_result"
    }
   ],
   "source": [
    "df = pd.read_csv('C:/202105_lab/09.ELKStack/JJJJ_Project/Movie_CSV/month/201912.csv')\n",
    "\n",
    "df1 = df.drop(df.index[0])\n",
    "df1.drop([df1.columns[0], df1.columns[1], df1.columns[4], df1.columns[5], df1.columns[7]], axis=1, inplace=True)\n",
    "df1.drop([df1.columns[3], df1.columns[4], df1.columns[5], df1.columns[6], df1.columns[7]], axis=1, inplace=True)\n",
    "df1['신작수'] = 0\n",
    "df1['개봉일'].fillna('none', inplace=True)\n",
    "\n",
    "df_len = len(df1['개봉일'])\n",
    "print(df1['개봉일'][1])\n",
    "print(df1['개봉일'][2])\n",
    "print(df_len)\n",
    "print('-'*30)\n",
    "\n",
    "for idx in range(1,df_len):\n",
    "    if df1['개봉일'][idx][0:7] == '2019-12':\n",
    "        df1['신작수'][idx] = 1\n",
    "\n",
    "tot = 0\n",
    "for idx in range(1,df_len):\n",
    "    tot += df1['신작수'][idx]\n",
    "\n",
    "df1['신작수'][df_len] = tot\n",
    "\n",
    "df1.drop(df1.index[0:df_len-1], inplace=True)\n",
    "df1.reset_index(inplace=True)\n",
    "\n",
    "df1.drop([df1.columns[0], df1.columns[1]], axis=1, inplace=True)\n",
    "df1"
   ]
  },
  {
   "cell_type": "code",
   "execution_count": 8,
   "metadata": {},
   "outputs": [
    {
     "name": "stdout",
     "output_type": "stream",
     "text": [
      "551\n",
      "------------------------------\n"
     ]
    },
    {
     "name": "stderr",
     "output_type": "stream",
     "text": [
      "<ipython-input-8-55e6bee9fd12>:15: SettingWithCopyWarning: \n",
      "A value is trying to be set on a copy of a slice from a DataFrame\n",
      "\n",
      "See the caveats in the documentation: https://pandas.pydata.org/pandas-docs/stable/user_guide/indexing.html#returning-a-view-versus-a-copy\n",
      "  df1['신작수'][idx] = 1\n",
      "<ipython-input-8-55e6bee9fd12>:21: SettingWithCopyWarning: \n",
      "A value is trying to be set on a copy of a slice from a DataFrame\n",
      "\n",
      "See the caveats in the documentation: https://pandas.pydata.org/pandas-docs/stable/user_guide/indexing.html#returning-a-view-versus-a-copy\n",
      "  df1['신작수'][df_len] = tot\n"
     ]
    },
    {
     "data": {
      "text/html": [
       "<div>\n",
       "<style scoped>\n",
       "    .dataframe tbody tr th:only-of-type {\n",
       "        vertical-align: middle;\n",
       "    }\n",
       "\n",
       "    .dataframe tbody tr th {\n",
       "        vertical-align: top;\n",
       "    }\n",
       "\n",
       "    .dataframe thead th {\n",
       "        text-align: right;\n",
       "    }\n",
       "</style>\n",
       "<table border=\"1\" class=\"dataframe\">\n",
       "  <thead>\n",
       "    <tr style=\"text-align: right;\">\n",
       "      <th></th>\n",
       "      <th>매출액</th>\n",
       "      <th>관객수</th>\n",
       "      <th>신작수</th>\n",
       "    </tr>\n",
       "  </thead>\n",
       "  <tbody>\n",
       "    <tr>\n",
       "      <th>0</th>\n",
       "      <td>143,681,061,430</td>\n",
       "      <td>16,843,695</td>\n",
       "      <td>165</td>\n",
       "    </tr>\n",
       "  </tbody>\n",
       "</table>\n",
       "</div>"
      ],
      "text/plain": [
       "              매출액         관객수   신작수\n",
       "0  143,681,061,430  16,843,695  165"
      ]
     },
     "execution_count": 8,
     "metadata": {},
     "output_type": "execute_result"
    }
   ],
   "source": [
    "df = pd.read_csv('C:/202105_lab/09.ELKStack/JJJJ_Project/Movie_CSV/month/202001.csv')\n",
    "\n",
    "df1 = df.drop(df.index[0])\n",
    "df1.drop([df1.columns[0], df1.columns[1], df1.columns[4], df1.columns[5], df1.columns[7]], axis=1, inplace=True)\n",
    "df1.drop([df1.columns[3], df1.columns[4], df1.columns[5], df1.columns[6], df1.columns[7]], axis=1, inplace=True)\n",
    "df1['신작수'] = 0\n",
    "df1['개봉일'].fillna('none', inplace=True)\n",
    "\n",
    "df_len = len(df1['개봉일'])\n",
    "print(df_len)\n",
    "print('-'*30)\n",
    "\n",
    "for idx in range(1,df_len):\n",
    "    if df1['개봉일'][idx][0:7] == '2020-01':\n",
    "        df1['신작수'][idx] = 1\n",
    "\n",
    "tot = 0\n",
    "for idx in range(1,df_len):\n",
    "    tot += df1['신작수'][idx]\n",
    "\n",
    "df1['신작수'][df_len] = tot\n",
    "\n",
    "df1.drop(df1.index[0:df_len-1], inplace=True)\n",
    "df1.reset_index(inplace=True)\n",
    "\n",
    "df1.drop([df1.columns[0], df1.columns[1]], axis=1, inplace=True)\n",
    "df1"
   ]
  },
  {
   "cell_type": "code",
   "execution_count": 9,
   "metadata": {
    "scrolled": true
   },
   "outputs": [
    {
     "name": "stdout",
     "output_type": "stream",
     "text": [
      "524\n",
      "------------------------------\n"
     ]
    },
    {
     "name": "stderr",
     "output_type": "stream",
     "text": [
      "<ipython-input-9-297dea69ec11>:15: SettingWithCopyWarning: \n",
      "A value is trying to be set on a copy of a slice from a DataFrame\n",
      "\n",
      "See the caveats in the documentation: https://pandas.pydata.org/pandas-docs/stable/user_guide/indexing.html#returning-a-view-versus-a-copy\n",
      "  df1['신작수'][idx] = 1\n",
      "<ipython-input-9-297dea69ec11>:21: SettingWithCopyWarning: \n",
      "A value is trying to be set on a copy of a slice from a DataFrame\n",
      "\n",
      "See the caveats in the documentation: https://pandas.pydata.org/pandas-docs/stable/user_guide/indexing.html#returning-a-view-versus-a-copy\n",
      "  df1['신작수'][df_len] = tot\n"
     ]
    },
    {
     "data": {
      "text/html": [
       "<div>\n",
       "<style scoped>\n",
       "    .dataframe tbody tr th:only-of-type {\n",
       "        vertical-align: middle;\n",
       "    }\n",
       "\n",
       "    .dataframe tbody tr th {\n",
       "        vertical-align: top;\n",
       "    }\n",
       "\n",
       "    .dataframe thead th {\n",
       "        text-align: right;\n",
       "    }\n",
       "</style>\n",
       "<table border=\"1\" class=\"dataframe\">\n",
       "  <thead>\n",
       "    <tr style=\"text-align: right;\">\n",
       "      <th></th>\n",
       "      <th>매출액</th>\n",
       "      <th>관객수</th>\n",
       "      <th>신작수</th>\n",
       "    </tr>\n",
       "  </thead>\n",
       "  <tbody>\n",
       "    <tr>\n",
       "      <th>0</th>\n",
       "      <td>62,303,647,980</td>\n",
       "      <td>7,372,370</td>\n",
       "      <td>150</td>\n",
       "    </tr>\n",
       "  </tbody>\n",
       "</table>\n",
       "</div>"
      ],
      "text/plain": [
       "             매출액        관객수   신작수\n",
       "0  62,303,647,980  7,372,370  150"
      ]
     },
     "execution_count": 9,
     "metadata": {},
     "output_type": "execute_result"
    }
   ],
   "source": [
    "df = pd.read_csv('C:/202105_lab/09.ELKStack/JJJJ_Project/Movie_CSV/month/202002.csv')\n",
    "\n",
    "df1 = df.drop(df.index[0])\n",
    "df1.drop([df1.columns[0], df1.columns[1], df1.columns[4], df1.columns[5], df1.columns[7]], axis=1, inplace=True)\n",
    "df1.drop([df1.columns[3], df1.columns[4], df1.columns[5], df1.columns[6], df1.columns[7]], axis=1, inplace=True)\n",
    "df1['신작수'] = 0\n",
    "df1['개봉일'].fillna('none', inplace=True)\n",
    "\n",
    "df_len = len(df1['개봉일'])\n",
    "print(df_len)\n",
    "print('-'*30)\n",
    "\n",
    "for idx in range(1,df_len):\n",
    "    if df1['개봉일'][idx][0:7] == '2020-02':\n",
    "        df1['신작수'][idx] = 1\n",
    "\n",
    "tot = 0\n",
    "for idx in range(1,df_len):\n",
    "    tot += df1['신작수'][idx]\n",
    "\n",
    "df1['신작수'][df_len] = tot\n",
    "\n",
    "df1.drop(df1.index[0:df_len-1], inplace=True)\n",
    "df1.reset_index(inplace=True)\n",
    "\n",
    "df1.drop([df1.columns[0], df1.columns[1]], axis=1, inplace=True)\n",
    "df1"
   ]
  },
  {
   "cell_type": "code",
   "execution_count": 10,
   "metadata": {},
   "outputs": [
    {
     "name": "stdout",
     "output_type": "stream",
     "text": [
      "380\n",
      "------------------------------\n"
     ]
    },
    {
     "name": "stderr",
     "output_type": "stream",
     "text": [
      "<ipython-input-10-4e4e698470a4>:15: SettingWithCopyWarning: \n",
      "A value is trying to be set on a copy of a slice from a DataFrame\n",
      "\n",
      "See the caveats in the documentation: https://pandas.pydata.org/pandas-docs/stable/user_guide/indexing.html#returning-a-view-versus-a-copy\n",
      "  df1['신작수'][idx] = 1\n",
      "<ipython-input-10-4e4e698470a4>:21: SettingWithCopyWarning: \n",
      "A value is trying to be set on a copy of a slice from a DataFrame\n",
      "\n",
      "See the caveats in the documentation: https://pandas.pydata.org/pandas-docs/stable/user_guide/indexing.html#returning-a-view-versus-a-copy\n",
      "  df1['신작수'][df_len] = tot\n"
     ]
    },
    {
     "data": {
      "text/html": [
       "<div>\n",
       "<style scoped>\n",
       "    .dataframe tbody tr th:only-of-type {\n",
       "        vertical-align: middle;\n",
       "    }\n",
       "\n",
       "    .dataframe tbody tr th {\n",
       "        vertical-align: top;\n",
       "    }\n",
       "\n",
       "    .dataframe thead th {\n",
       "        text-align: right;\n",
       "    }\n",
       "</style>\n",
       "<table border=\"1\" class=\"dataframe\">\n",
       "  <thead>\n",
       "    <tr style=\"text-align: right;\">\n",
       "      <th></th>\n",
       "      <th>매출액</th>\n",
       "      <th>관객수</th>\n",
       "      <th>신작수</th>\n",
       "    </tr>\n",
       "  </thead>\n",
       "  <tbody>\n",
       "    <tr>\n",
       "      <th>0</th>\n",
       "      <td>15,152,718,950</td>\n",
       "      <td>1,834,722</td>\n",
       "      <td>154</td>\n",
       "    </tr>\n",
       "  </tbody>\n",
       "</table>\n",
       "</div>"
      ],
      "text/plain": [
       "             매출액        관객수   신작수\n",
       "0  15,152,718,950  1,834,722  154"
      ]
     },
     "execution_count": 10,
     "metadata": {},
     "output_type": "execute_result"
    }
   ],
   "source": [
    "df = pd.read_csv('C:/202105_lab/09.ELKStack/JJJJ_Project/Movie_CSV/month/202003.csv')\n",
    "\n",
    "df1 = df.drop(df.index[0])\n",
    "df1.drop([df1.columns[0], df1.columns[1], df1.columns[4], df1.columns[5], df1.columns[7]], axis=1, inplace=True)\n",
    "df1.drop([df1.columns[3], df1.columns[4], df1.columns[5], df1.columns[6], df1.columns[7]], axis=1, inplace=True)\n",
    "df1['신작수'] = 0\n",
    "df1['개봉일'].fillna('none', inplace=True)\n",
    "\n",
    "df_len = len(df1['개봉일'])\n",
    "print(df_len)\n",
    "print('-'*30)\n",
    "\n",
    "for idx in range(1,df_len):\n",
    "    if df1['개봉일'][idx][0:7] == '2020-03':\n",
    "        df1['신작수'][idx] = 1\n",
    "\n",
    "tot = 0\n",
    "for idx in range(1,df_len):\n",
    "    tot += df1['신작수'][idx]\n",
    "\n",
    "df1['신작수'][df_len] = tot\n",
    "\n",
    "df1.drop(df1.index[0:df_len-1], inplace=True)\n",
    "df1.reset_index(inplace=True)\n",
    "\n",
    "df1.drop([df1.columns[0], df1.columns[1]], axis=1, inplace=True)\n",
    "df1"
   ]
  },
  {
   "cell_type": "code",
   "execution_count": 11,
   "metadata": {},
   "outputs": [
    {
     "name": "stdout",
     "output_type": "stream",
     "text": [
      "476\n",
      "------------------------------\n"
     ]
    },
    {
     "name": "stderr",
     "output_type": "stream",
     "text": [
      "<ipython-input-11-cedc51fdfdc1>:15: SettingWithCopyWarning: \n",
      "A value is trying to be set on a copy of a slice from a DataFrame\n",
      "\n",
      "See the caveats in the documentation: https://pandas.pydata.org/pandas-docs/stable/user_guide/indexing.html#returning-a-view-versus-a-copy\n",
      "  df1['신작수'][idx] = 1\n",
      "<ipython-input-11-cedc51fdfdc1>:21: SettingWithCopyWarning: \n",
      "A value is trying to be set on a copy of a slice from a DataFrame\n",
      "\n",
      "See the caveats in the documentation: https://pandas.pydata.org/pandas-docs/stable/user_guide/indexing.html#returning-a-view-versus-a-copy\n",
      "  df1['신작수'][df_len] = tot\n"
     ]
    },
    {
     "data": {
      "text/html": [
       "<div>\n",
       "<style scoped>\n",
       "    .dataframe tbody tr th:only-of-type {\n",
       "        vertical-align: middle;\n",
       "    }\n",
       "\n",
       "    .dataframe tbody tr th {\n",
       "        vertical-align: top;\n",
       "    }\n",
       "\n",
       "    .dataframe thead th {\n",
       "        text-align: right;\n",
       "    }\n",
       "</style>\n",
       "<table border=\"1\" class=\"dataframe\">\n",
       "  <thead>\n",
       "    <tr style=\"text-align: right;\">\n",
       "      <th></th>\n",
       "      <th>매출액</th>\n",
       "      <th>관객수</th>\n",
       "      <th>신작수</th>\n",
       "    </tr>\n",
       "  </thead>\n",
       "  <tbody>\n",
       "    <tr>\n",
       "      <th>0</th>\n",
       "      <td>7,515,666,040</td>\n",
       "      <td>972,572</td>\n",
       "      <td>180</td>\n",
       "    </tr>\n",
       "  </tbody>\n",
       "</table>\n",
       "</div>"
      ],
      "text/plain": [
       "            매출액      관객수   신작수\n",
       "0  7,515,666,040  972,572  180"
      ]
     },
     "execution_count": 11,
     "metadata": {},
     "output_type": "execute_result"
    }
   ],
   "source": [
    "df = pd.read_csv('C:/202105_lab/09.ELKStack/JJJJ_Project/Movie_CSV/month/202004.csv')\n",
    "\n",
    "df1 = df.drop(df.index[0])\n",
    "df1.drop([df1.columns[0], df1.columns[1], df1.columns[4], df1.columns[5], df1.columns[7]], axis=1, inplace=True)\n",
    "df1.drop([df1.columns[3], df1.columns[4], df1.columns[5], df1.columns[6], df1.columns[7]], axis=1, inplace=True)\n",
    "df1['신작수'] = 0\n",
    "df1['개봉일'].fillna('none', inplace=True)\n",
    "\n",
    "df_len = len(df1['개봉일'])\n",
    "print(df_len)\n",
    "print('-'*30)\n",
    "\n",
    "for idx in range(1,df_len):\n",
    "    if df1['개봉일'][idx][0:7] == '2020-04':\n",
    "        df1['신작수'][idx] = 1\n",
    "\n",
    "tot = 0\n",
    "for idx in range(1,df_len):\n",
    "    tot += df1['신작수'][idx]\n",
    "\n",
    "df1['신작수'][df_len] = tot\n",
    "\n",
    "df1.drop(df1.index[0:df_len-1], inplace=True)\n",
    "df1.reset_index(inplace=True)\n",
    "\n",
    "df1.drop([df1.columns[0], df1.columns[1]], axis=1, inplace=True)\n",
    "df1"
   ]
  },
  {
   "cell_type": "code",
   "execution_count": null,
   "metadata": {},
   "outputs": [],
   "source": []
  }
 ],
 "metadata": {
  "kernelspec": {
   "display_name": "Python 3",
   "language": "python",
   "name": "python3"
  },
  "language_info": {
   "codemirror_mode": {
    "name": "ipython",
    "version": 3
   },
   "file_extension": ".py",
   "mimetype": "text/x-python",
   "name": "python",
   "nbconvert_exporter": "python",
   "pygments_lexer": "ipython3",
   "version": "3.8.5"
  },
  "toc": {
   "base_numbering": 1,
   "nav_menu": {},
   "number_sections": true,
   "sideBar": true,
   "skip_h1_title": false,
   "title_cell": "Table of Contents",
   "title_sidebar": "Contents",
   "toc_cell": false,
   "toc_position": {},
   "toc_section_display": true,
   "toc_window_display": false
  }
 },
 "nbformat": 4,
 "nbformat_minor": 4
}
